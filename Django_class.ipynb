{
  "nbformat": 4,
  "nbformat_minor": 0,
  "metadata": {
    "colab": {
      "provenance": [],
      "include_colab_link": true
    },
    "kernelspec": {
      "name": "python3",
      "display_name": "Python 3"
    },
    "language_info": {
      "name": "python"
    }
  },
  "cells": [
    {
      "cell_type": "markdown",
      "metadata": {
        "id": "view-in-github",
        "colab_type": "text"
      },
      "source": [
        "<a href=\"https://colab.research.google.com/github/jebunnaharjuthy/Python-Django-/blob/main/Django_class.ipynb\" target=\"_parent\"><img src=\"https://colab.research.google.com/assets/colab-badge.svg\" alt=\"Open In Colab\"/></a>"
      ]
    },
    {
      "cell_type": "markdown",
      "source": [
        "**Django 1st class**"
      ],
      "metadata": {
        "id": "1NI8BjHF_ppE"
      }
    },
    {
      "cell_type": "code",
      "execution_count": null,
      "metadata": {
        "colab": {
          "base_uri": "https://localhost:8080/"
        },
        "id": "HGOkz94HCz4E",
        "outputId": "dbdf5856-2202-430a-a0d5-3ad5abfd5170"
      },
      "outputs": [
        {
          "output_type": "stream",
          "name": "stdout",
          "text": [
            "12  +  34  =  46\n"
          ]
        }
      ],
      "source": [
        "a=12\n",
        "b=34\n",
        "c=a+b\n",
        "#print(str(a)+\" + \"+str(b) +\" + \")\n",
        "print(a,\" + \",b,\" = \",c)"
      ]
    },
    {
      "cell_type": "code",
      "source": [
        "a=12\n",
        "b=34\n",
        "c=a+b\n",
        "print(str(a)+\" + \"+str(b)+\" = \"+str(c))\n",
        "#print(a,\" + \",b,\" = \",c)"
      ],
      "metadata": {
        "colab": {
          "base_uri": "https://localhost:8080/"
        },
        "id": "8gS8mrHOErd2",
        "outputId": "36d9498d-bf23-4ffd-f264-82467c8c8636"
      },
      "execution_count": null,
      "outputs": [
        {
          "output_type": "stream",
          "name": "stdout",
          "text": [
            "12 + 34 = 46\n"
          ]
        }
      ]
    },
    {
      "cell_type": "code",
      "source": [
        "a=int(input(\"Enter a:\"))\n",
        "b=int(input(\"Enter b:\"))\n",
        "c=a+b\n",
        "#print(str(a)+\" + \"+str(b) +\" + \")\n",
        "print(a,\" + \",b,\" = \",c)"
      ],
      "metadata": {
        "colab": {
          "base_uri": "https://localhost:8080/"
        },
        "id": "DmQJAA0RC8yI",
        "outputId": "94da2b17-e581-423c-b9ae-5d9bcacf2209"
      },
      "execution_count": null,
      "outputs": [
        {
          "output_type": "stream",
          "name": "stdout",
          "text": [
            "Enter a:44\n",
            "Enter b:23\n",
            "44  +  23  =  67\n"
          ]
        }
      ]
    },
    {
      "cell_type": "markdown",
      "source": [
        "**Django 2nd class**\n",
        "\n",
        "13-12-2024\n",
        "\n"
      ],
      "metadata": {
        "id": "L-nJFP553MgC"
      }
    },
    {
      "cell_type": "code",
      "source": [
        "a=12\n",
        "b=34\n",
        "c=a+b\n",
        "\n",
        "print(c)"
      ],
      "metadata": {
        "id": "Ly9eOzo0C81e",
        "colab": {
          "base_uri": "https://localhost:8080/"
        },
        "outputId": "2244f99e-9ec8-4d2a-8875-b03c852b624b"
      },
      "execution_count": null,
      "outputs": [
        {
          "output_type": "stream",
          "name": "stdout",
          "text": [
            "46\n"
          ]
        }
      ]
    },
    {
      "cell_type": "code",
      "source": [
        "a=int(input())\n",
        "#print(a)\n",
        "b=5\n",
        "c=a+b\n",
        "print(c)"
      ],
      "metadata": {
        "id": "MVbanIK3C84q",
        "colab": {
          "base_uri": "https://localhost:8080/"
        },
        "outputId": "463a9c21-b6fd-4cc0-ad04-e3f641b0b377"
      },
      "execution_count": null,
      "outputs": [
        {
          "output_type": "stream",
          "name": "stdout",
          "text": [
            "4\n",
            "9\n"
          ]
        }
      ]
    },
    {
      "cell_type": "code",
      "source": [
        "age = 20\n",
        "\n",
        "if age >= 18:\n",
        "    print(\"You are an adult.\")\n",
        "else:\n",
        "    print(\"You are a minor.\")\n"
      ],
      "metadata": {
        "id": "Az_CjYDvC88A",
        "colab": {
          "base_uri": "https://localhost:8080/"
        },
        "outputId": "7c288be1-0f03-4c0d-f219-d7bc546fc0eb"
      },
      "execution_count": null,
      "outputs": [
        {
          "output_type": "stream",
          "name": "stdout",
          "text": [
            "You are an adult.\n"
          ]
        }
      ]
    },
    {
      "cell_type": "code",
      "source": [
        "# Get three numbers\n",
        "a = 10\n",
        "b = 25\n",
        "c = 15\n",
        "\n",
        "# Compare the numbers to find the largest\n",
        "if a >= b and a >= c:\n",
        "    largest = a\n",
        "elif b >= a and b >= c:\n",
        "    largest = b\n",
        "else:\n",
        "    largest = c\n",
        "\n",
        "print(\"The largest number is:\", largest)\n"
      ],
      "metadata": {
        "colab": {
          "base_uri": "https://localhost:8080/"
        },
        "id": "9Jm2JaB-A3qT",
        "outputId": "2711a248-e2ab-4007-99c0-c2a4263fed41"
      },
      "execution_count": null,
      "outputs": [
        {
          "output_type": "stream",
          "name": "stdout",
          "text": [
            "The largest number is: 25\n"
          ]
        }
      ]
    },
    {
      "cell_type": "code",
      "source": [
        "def add(a=0,b=0):\n",
        "  return a+b\n",
        "a = int(input(\"Enter a:\"))\n",
        "b = int(input(\"Enter b:\"))\n",
        "print(a,\" + \",b,\" = \", add(a,b))\n"
      ],
      "metadata": {
        "colab": {
          "base_uri": "https://localhost:8080/"
        },
        "id": "ex4YTrNrAicl",
        "outputId": "ee8b7852-a1b1-42ee-9eeb-e514c87ee801"
      },
      "execution_count": null,
      "outputs": [
        {
          "output_type": "stream",
          "name": "stdout",
          "text": [
            "Enter a:12\n",
            "Enter b:13\n",
            "12  +  13  =  25\n"
          ]
        }
      ]
    },
    {
      "cell_type": "code",
      "source": [
        "arr = [1,2,3,4,5,6,7,8,9,10]\n",
        "print(arr)"
      ],
      "metadata": {
        "colab": {
          "base_uri": "https://localhost:8080/"
        },
        "id": "ByFLw8RBAifz",
        "outputId": "19cb4c5e-0ed5-483d-8d85-172379cde4d8"
      },
      "execution_count": null,
      "outputs": [
        {
          "output_type": "stream",
          "name": "stdout",
          "text": [
            "[1, 2, 3, 4, 5, 6, 7, 8, 9, 10]\n"
          ]
        }
      ]
    },
    {
      "cell_type": "code",
      "source": [
        "arr = [1,2,3,4,5,6,7,8,9,10]\n",
        "print(arr[2])"
      ],
      "metadata": {
        "colab": {
          "base_uri": "https://localhost:8080/"
        },
        "id": "oXhoEG9oIMWZ",
        "outputId": "6b02cfb4-916e-4bea-f945-d9d852474424"
      },
      "execution_count": null,
      "outputs": [
        {
          "output_type": "stream",
          "name": "stdout",
          "text": [
            "3\n"
          ]
        }
      ]
    },
    {
      "cell_type": "code",
      "source": [
        "arr = [1,2,3,4,5,6,7,8,9,10]\n",
        "sum = 0\n",
        "for i in arr:\n",
        "   sum += i\n",
        "   print(i, end = \" + \")\n",
        "print(\" = \",sum)"
      ],
      "metadata": {
        "colab": {
          "base_uri": "https://localhost:8080/"
        },
        "id": "AyhRbki7IUZO",
        "outputId": "30c56de9-0118-40b7-9d07-57551ee5fbde"
      },
      "execution_count": null,
      "outputs": [
        {
          "output_type": "stream",
          "name": "stdout",
          "text": [
            "1 + 2 + 3 + 4 + 5 + 6 + 7 + 8 + 9 + 10 +  =  55\n"
          ]
        }
      ]
    },
    {
      "cell_type": "code",
      "source": [
        "arr = [1, 2, 3, 4, 5, 6, 7, 8, 9, 10]\n",
        "sum = 0\n",
        "for i in range(len(arr)):\n",
        "    sum += arr[i]\n",
        "    # Check if it's the last element\n",
        "    if i < len(arr) - 1:\n",
        "        print(arr[i], end=\" + \")\n",
        "    else:\n",
        "        print(arr[i], end=\"\")  # No \"+\" after the last number\n",
        "print(\" = \", sum)\n"
      ],
      "metadata": {
        "colab": {
          "base_uri": "https://localhost:8080/"
        },
        "id": "7MA6PJE1Jt1f",
        "outputId": "dfb4c16e-863b-4a65-ed32-193434305d39"
      },
      "execution_count": null,
      "outputs": [
        {
          "output_type": "stream",
          "name": "stdout",
          "text": [
            "1 + 2 + 3 + 4 + 5 + 6 + 7 + 8 + 9 + 10 =  55\n"
          ]
        }
      ]
    },
    {
      "cell_type": "code",
      "source": [
        "arr = [1, 2, 3, 4, 5, 6, 7, 8, 9, 10]\n",
        "sum = 0\n",
        "for i in range(len(arr)):\n",
        "    sum += i\n",
        "    # Check if it's the last element\n",
        "    if i < len(arr) - 1:\n",
        "        print(i, end=\" + \")\n",
        "    else:\n",
        "        print(i, end=\"\")  # No \"+\" after the last number\n",
        "print(\" = \", sum)\n"
      ],
      "metadata": {
        "colab": {
          "base_uri": "https://localhost:8080/"
        },
        "id": "8y6QprANJ-Ke",
        "outputId": "4fef9fc6-df4b-4f4e-b1a7-124772666c15"
      },
      "execution_count": null,
      "outputs": [
        {
          "output_type": "stream",
          "name": "stdout",
          "text": [
            "0 + 1 + 2 + 3 + 4 + 5 + 6 + 7 + 8 + 9 =  45\n"
          ]
        }
      ]
    },
    {
      "cell_type": "code",
      "source": [
        "arr = [1, 2, 3, 4, 5, 6, 7, 8, 9, 10]\n",
        "sum = 0\n",
        "for i in range(len(arr)+1):\n",
        "    sum += i\n",
        "    # Check if it's the last element\n",
        "    if i < len(arr):\n",
        "        print(i, end=\" + \")\n",
        "    else:\n",
        "        print(i, end=\"\")  # No \"+\" after the last number\n",
        "print(\" = \", sum)\n"
      ],
      "metadata": {
        "colab": {
          "base_uri": "https://localhost:8080/"
        },
        "id": "64yfQQzDMH03",
        "outputId": "84baf058-bd5c-4b54-e24a-35ec24c533f6"
      },
      "execution_count": null,
      "outputs": [
        {
          "output_type": "stream",
          "name": "stdout",
          "text": [
            "0 + 1 + 2 + 3 + 4 + 5 + 6 + 7 + 8 + 9 + 10 =  55\n"
          ]
        }
      ]
    },
    {
      "cell_type": "markdown",
      "source": [
        "**Django 3rd Class**\n",
        "14 Dec, 2024"
      ],
      "metadata": {
        "id": "1kVtr056ILdE"
      }
    },
    {
      "cell_type": "code",
      "source": [
        "def SubtractTwo(a = 0, b = 0):\n",
        "  c = a - b\n",
        "  return c\n",
        "a = int(input(\"Enter a:\"))\n",
        "b = int(input(\"Enter b:\"))\n",
        "print(a,\" - \",b,\" = \", SubtractTwo(a,b))"
      ],
      "metadata": {
        "colab": {
          "base_uri": "https://localhost:8080/"
        },
        "id": "u_RLhk4YIVeL",
        "outputId": "23c93393-3f27-432b-feb9-56230e86b321"
      },
      "execution_count": null,
      "outputs": [
        {
          "output_type": "stream",
          "name": "stdout",
          "text": [
            "Enter a:45\n",
            "Enter b:40\n",
            "45  -  40  =  5\n"
          ]
        }
      ]
    },
    {
      "cell_type": "code",
      "source": [
        "def find_min_exclusion(arr):\n",
        "    # Remove duplicates and ignore negative numbers or zeros\n",
        "    arr = set(arr)\n",
        "\n",
        "    # Start from 1 and check the smallest missing positive integer\n",
        "    num = 1\n",
        "    while num in arr:\n",
        "        num += 1\n",
        "\n",
        "    return num\n",
        "arr = [3, 4, -1, 1]\n",
        "print(find_min_exclusion(arr))  # Output: 2\n"
      ],
      "metadata": {
        "id": "DlvvC7HaIWwr",
        "colab": {
          "base_uri": "https://localhost:8080/"
        },
        "outputId": "29e8cea1-5700-4aff-9076-22f7577a6403"
      },
      "execution_count": null,
      "outputs": [
        {
          "output_type": "stream",
          "name": "stdout",
          "text": [
            "2\n"
          ]
        }
      ]
    },
    {
      "cell_type": "code",
      "source": [
        "def minimum_exclusion(arr):\n",
        "    return [1] * len(arr)\n",
        "arr = [12, 5, 7, 0, 10]\n",
        "result = minimum_exclusion(arr)\n",
        "print(result)  # Output: [1, 1, 1, 1, 1]\n"
      ],
      "metadata": {
        "colab": {
          "base_uri": "https://localhost:8080/"
        },
        "id": "OE9WsXRBNz9_",
        "outputId": "83711da8-9659-4cbf-cf48-24f982d58680"
      },
      "execution_count": null,
      "outputs": [
        {
          "output_type": "stream",
          "name": "stdout",
          "text": [
            "[1, 1, 1, 1, 1]\n"
          ]
        }
      ]
    },
    {
      "cell_type": "code",
      "source": [
        "def minimum_exclusion(arr):\n",
        "    result = []\n",
        "\n",
        "    for i in range(len(arr)):\n",
        "        # Exclude the current element and check for the smallest missing natural number\n",
        "        temp_list = arr[:i] + arr[i+1:]\n",
        "\n",
        "        # Find the smallest missing positive integer\n",
        "        missing = 1\n",
        "        while missing in temp_list:\n",
        "            missing += 1\n",
        "\n",
        "        # Append the result for this element\n",
        "        result.append(missing)\n",
        "\n",
        "    return result\n",
        "arr = [12, 5, 7, 0, 10]\n",
        "result = minimum_exclusion(arr)\n",
        "print(result)  # Output: [1, 1, 1, 1, 1]\n"
      ],
      "metadata": {
        "colab": {
          "base_uri": "https://localhost:8080/"
        },
        "id": "RTl28Yi1N0Cr",
        "outputId": "4fb0cba6-57e4-488e-85f9-52b27b0e6112"
      },
      "execution_count": null,
      "outputs": [
        {
          "output_type": "stream",
          "name": "stdout",
          "text": [
            "[1, 1, 1, 1, 1]\n"
          ]
        }
      ]
    },
    {
      "cell_type": "code",
      "source": [
        "def minimum_exclusion(arr):\n",
        "    result = []\n",
        "\n",
        "    for i in range(len(arr)):\n",
        "        # Exclude the current element and check for the smallest missing natural number\n",
        "        temp_list = arr[:i] + arr[i+1:]\n",
        "\n",
        "        # Find the smallest missing positive integer\n",
        "        missing = 1\n",
        "        while missing in temp_list:\n",
        "            missing += 1\n",
        "\n",
        "        # Append the result for this element\n",
        "        result.append(missing)\n",
        "\n",
        "    return result\n",
        "arr = [12, 5, 7, 1, 10]\n",
        "result = minimum_exclusion(arr)\n",
        "print(result)  # Output: [1, 1, 1, 1, 1]\n"
      ],
      "metadata": {
        "colab": {
          "base_uri": "https://localhost:8080/"
        },
        "id": "IFjeuDyFOpSe",
        "outputId": "1f10448b-8895-4dd1-d005-c6fe7134fd22"
      },
      "execution_count": null,
      "outputs": [
        {
          "output_type": "stream",
          "name": "stdout",
          "text": [
            "[2, 2, 2, 1, 2]\n"
          ]
        }
      ]
    },
    {
      "cell_type": "markdown",
      "source": [
        "**String tgest**"
      ],
      "metadata": {
        "id": "GVw1mpvzYJRV"
      }
    },
    {
      "cell_type": "code",
      "source": [
        "text1= \"This is Batch 50\"\n",
        "text2 = text1+\" of EDGE Project\"\n",
        "\n",
        "print(text2)\n",
        "print(text2[:4])\n",
        "print(text2[:4]+text2[4:16])"
      ],
      "metadata": {
        "colab": {
          "base_uri": "https://localhost:8080/"
        },
        "id": "Irr5yDfsYIWA",
        "outputId": "84cc326f-0766-4a66-8d52-b0d00575b682"
      },
      "execution_count": null,
      "outputs": [
        {
          "output_type": "stream",
          "name": "stdout",
          "text": [
            "This is Batch 50 of EDGE Project\n",
            "This\n",
            "This is Batch 50\n"
          ]
        }
      ]
    },
    {
      "cell_type": "code",
      "source": [],
      "metadata": {
        "id": "u6G-KcwrYIZX"
      },
      "execution_count": null,
      "outputs": []
    },
    {
      "cell_type": "code",
      "source": [],
      "metadata": {
        "id": "6GxyobaSYIcg"
      },
      "execution_count": null,
      "outputs": []
    }
  ]
}