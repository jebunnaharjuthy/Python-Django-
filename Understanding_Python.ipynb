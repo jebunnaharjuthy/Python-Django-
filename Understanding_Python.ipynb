{
  "nbformat": 4,
  "nbformat_minor": 0,
  "metadata": {
    "colab": {
      "provenance": [],
      "authorship_tag": "ABX9TyOrCrPt5r8akhDGhfvAUfsp",
      "include_colab_link": true
    },
    "kernelspec": {
      "name": "python3",
      "display_name": "Python 3"
    },
    "language_info": {
      "name": "python"
    }
  },
  "cells": [
    {
      "cell_type": "markdown",
      "metadata": {
        "id": "view-in-github",
        "colab_type": "text"
      },
      "source": [
        "<a href=\"https://colab.research.google.com/github/jebunnaharjuthy/Python-Django-/blob/main/Understanding_Python.ipynb\" target=\"_parent\"><img src=\"https://colab.research.google.com/assets/colab-badge.svg\" alt=\"Open In Colab\"/></a>"
      ]
    },
    {
      "cell_type": "code",
      "execution_count": 2,
      "metadata": {
        "colab": {
          "base_uri": "https://localhost:8080/"
        },
        "id": "FQ4wYcL_LMsq",
        "outputId": "f9b11192-f7e0-4928-e535-7efa92641616"
      },
      "outputs": [
        {
          "output_type": "stream",
          "name": "stdout",
          "text": [
            "li1 = [2j, (1+3j), (2+4j), (3+5j), (4+6j), (5+7j)]\n",
            "li2 = [(2+4j), (4+6j), (6+8j), (8+10j), (10+12j), (12+14j)]\n",
            "li3= [(2+6j), (5+9j), (8+12j), (11+15j), (14+18j), (17+21j)]\n",
            "Encoded Message Size of type <class 'bytes'>:  145\n",
            "List Size of type <class 'list'>:  120\n",
            "Encoded Message Size of type <class 'str'>:  104\n",
            "Original list after addition [(2+6j), (5+9j), (8+12j), (11+15j), (14+18j), (17+21j)]\n",
            "Encoded Message: b'\\xff\\xfe[\\x00(\\x002\\x00+\\x006\\x00j\\x00)\\x00,\\x00 \\x00(\\x005\\x00+\\x009\\x00j\\x00)\\x00,\\x00 \\x00(\\x008\\x00+\\x001\\x002\\x00j\\x00)\\x00,\\x00 \\x00(\\x001\\x001\\x00+\\x001\\x005\\x00j\\x00)\\x00,\\x00 \\x00(\\x001\\x004\\x00+\\x001\\x008\\x00j\\x00)\\x00,\\x00 \\x00(\\x001\\x007\\x00+\\x002\\x001\\x00j\\x00)\\x00]\\x00'\n"
          ]
        }
      ],
      "source": [
        "\n",
        "import sys\n",
        "# Function to add two complex numbers\n",
        "def addComplex(z1, z2):\n",
        "    return z1 + z2  # Returns the sum of two complex numbers\n",
        "\n",
        "# List comprehension to generate a list of complex numbers\n",
        "# li1 contains complex numbers of the form (_, 2 + _) for _ in range(6)\n",
        "li1 = [complex(_, 2 + _) for _ in range(6)]\n",
        "\n",
        "# List comprehension to generate another list of complex numbers\n",
        "# li2 contains complex numbers of the form (_, 2 + _) for _ in range(2, 14, 2)\n",
        "li2 = [complex(_, 2 + _) for _ in range(2, 14, 2)]\n",
        "\n",
        "# Initialize an empty list to store the results of adding corresponding elements of li1 and li2\n",
        "li3 = []\n",
        "for i, j in zip(li1, li2):  # Iterate through pairs of elements from li1 and li2\n",
        "    li3.append(addComplex(i, j))  # Append the sum of the pair to li3\n",
        "\n",
        "# Print the generated lists and their result after addition\n",
        "print(f\"li1 = {li1}\\nli2 = {li2}\\nli3= {li3}\")\n",
        "\n",
        "# Encode the resulting list (li3) into a UTF-16 encoded byte object\n",
        "enc_mess = bytes(str(li3).encode('utf-16'))\n",
        "\n",
        "# Print the size (in bytes) of the encoded message\n",
        "print(f\"Encoded Message Size of type {type(enc_mess)}: \", sys.getsizeof(enc_mess))\n",
        "\n",
        "# Print the size (in bytes) of the original list\n",
        "print(f\"List Size of type {type(li3)}: \", sys.getsizeof(li3))\n",
        "\n",
        "# Print the size (in bytes) of the string representation of the list\n",
        "print(f\"Encoded Message Size of type {type(str(li3))}: \", sys.getsizeof(str(li3)))\n",
        "\n",
        "# Print the original list after addition\n",
        "print(\"Original list after addition\", li3)\n",
        "\n",
        "# Print the encoded message in UTF-16 format\n",
        "print(f\"Encoded Message: {enc_mess}\")\n",
        "\n",
        "# Uncomment the following line to demonstrate an alternative encoding approach\n",
        "# print(bytes(str(li3), 'utf-16'))\n"
      ]
    },
    {
      "cell_type": "code",
      "source": [
        "import sys  # Import sys module to calculate memory size\n",
        "\n",
        "# Class for performing complex number operations\n",
        "class ComplexOperations:\n",
        "    def __init__(self):\n",
        "        # Initialize the first list of complex numbers\n",
        "        self.li1 = [complex(_, 2 + _) for _ in range(6)]\n",
        "        # Initialize the second list of complex numbers\n",
        "        self.li2 = [complex(_, 2 + _) for _ in range(2, 14, 2)]\n",
        "        # Initialize an empty list to store results\n",
        "        self.li3 = []\n",
        "\n",
        "    # Method to add two complex numbers\n",
        "    def add_complex(self, z1, z2):\n",
        "        return z1 + z2  # Return the sum of z1 and z2\n",
        "\n",
        "    # Method to compute the resulting list by adding corresponding elements of li1 and li2\n",
        "    def compute_result(self):\n",
        "        for i, j in zip(self.li1, self.li2):  # Iterate through pairs from li1 and li2\n",
        "            self.li3.append(self.add_complex(i, j))  # Append the sum to li3\n",
        "\n",
        "    # Static method to calculate the memory size of an object\n",
        "    @staticmethod\n",
        "    def calculate_size(obj, encoding='utf-16'):\n",
        "        if isinstance(obj, str):  # If the object is a string\n",
        "            # Encode the string in the specified encoding and calculate its size\n",
        "            encoded_obj = obj.encode(encoding)\n",
        "            return sys.getsizeof(encoded_obj), encoded_obj  # Return size and encoded object\n",
        "        return sys.getsizeof(obj)  # Return size for non-string objects\n",
        "\n",
        "    # Method to display results\n",
        "    def display_results(self):\n",
        "        # Print the initial lists and the result list\n",
        "        print(f\"li1 = {self.li1}\\nli2 = {self.li2}\\nli3 = {self.li3}\")\n",
        "\n",
        "        # Convert the result list to a string representation\n",
        "        encoded_message = str(self.li3)\n",
        "\n",
        "        # Calculate the size and encoded version of the string representation\n",
        "        enc_size, enc_obj = ComplexOperations.calculate_size(encoded_message)\n",
        "\n",
        "        # Calculate the size of the original list\n",
        "        list_size = ComplexOperations.calculate_size(self.li3)\n",
        "\n",
        "        # Print the sizes of the encoded message and the original list\n",
        "        print(f\"Encoded Message Size (type: {type(enc_obj)}): {enc_size}\")\n",
        "        print(f\"List Size (type: {type(self.li3)}): {list_size}\")\n",
        "\n",
        "        # Print the encoded message and the original list\n",
        "        print(f\"Encoded Message: {enc_obj}\")\n",
        "        print(\"Original list after addition:\", self.li3)\n",
        "\n",
        "# Main function to execute the program\n",
        "def main():\n",
        "    # Create an object of ComplexOperations\n",
        "    complex_ops = ComplexOperations()\n",
        "\n",
        "    # Compute the result by adding complex numbers\n",
        "    complex_ops.compute_result()\n",
        "\n",
        "    # Display the results\n",
        "    complex_ops.display_results()\n",
        "\n",
        "# Entry point of the program\n",
        "if __name__ == \"__main__\":\n",
        "    main()  # Call the main function to start the program\n"
      ],
      "metadata": {
        "colab": {
          "base_uri": "https://localhost:8080/"
        },
        "id": "1t9Jr22TNaiL",
        "outputId": "160265d1-e3ca-4904-a43a-8ce7bd70bde3"
      },
      "execution_count": 3,
      "outputs": [
        {
          "output_type": "stream",
          "name": "stdout",
          "text": [
            "li1 = [2j, (1+3j), (2+4j), (3+5j), (4+6j), (5+7j)]\n",
            "li2 = [(2+4j), (4+6j), (6+8j), (8+10j), (10+12j), (12+14j)]\n",
            "li3 = [(2+6j), (5+9j), (8+12j), (11+15j), (14+18j), (17+21j)]\n",
            "Encoded Message Size (type: <class 'bytes'>): 145\n",
            "List Size (type: <class 'list'>): 120\n",
            "Encoded Message: b'\\xff\\xfe[\\x00(\\x002\\x00+\\x006\\x00j\\x00)\\x00,\\x00 \\x00(\\x005\\x00+\\x009\\x00j\\x00)\\x00,\\x00 \\x00(\\x008\\x00+\\x001\\x002\\x00j\\x00)\\x00,\\x00 \\x00(\\x001\\x001\\x00+\\x001\\x005\\x00j\\x00)\\x00,\\x00 \\x00(\\x001\\x004\\x00+\\x001\\x008\\x00j\\x00)\\x00,\\x00 \\x00(\\x001\\x007\\x00+\\x002\\x001\\x00j\\x00)\\x00]\\x00'\n",
            "Original list after addition: [(2+6j), (5+9j), (8+12j), (11+15j), (14+18j), (17+21j)]\n"
          ]
        }
      ]
    }
  ]
}