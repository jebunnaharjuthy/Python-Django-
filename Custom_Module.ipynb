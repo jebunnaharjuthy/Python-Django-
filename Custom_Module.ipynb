{
  "nbformat": 4,
  "nbformat_minor": 0,
  "metadata": {
    "colab": {
      "provenance": [],
      "authorship_tag": "ABX9TyPZm36tsfi1qUgtq88RX43+",
      "include_colab_link": true
    },
    "kernelspec": {
      "name": "python3",
      "display_name": "Python 3"
    },
    "language_info": {
      "name": "python"
    }
  },
  "cells": [
    {
      "cell_type": "markdown",
      "metadata": {
        "id": "view-in-github",
        "colab_type": "text"
      },
      "source": [
        "<a href=\"https://colab.research.google.com/github/jebunnaharjuthy/Python-Django-/blob/main/Custom_Module.ipynb\" target=\"_parent\"><img src=\"https://colab.research.google.com/assets/colab-badge.svg\" alt=\"Open In Colab\"/></a>"
      ]
    },
    {
      "cell_type": "code",
      "execution_count": 1,
      "metadata": {
        "colab": {
          "base_uri": "https://localhost:8080/"
        },
        "id": "_kTens2wZEbM",
        "outputId": "34908e3d-57f6-4023-d7fb-6c11953ed670"
      },
      "outputs": [
        {
          "output_type": "stream",
          "name": "stdout",
          "text": [
            "[11, 12, 13, 14, 16, 17]\n"
          ]
        }
      ],
      "source": [
        "def getMissingVals(lst, endOfFirstList, startOf2ndList):\n",
        "    \"\"\"\n",
        "    This function identifies missing values between two split points in a sorted list.\n",
        "\n",
        "    Parameters:\n",
        "    lst (list): The original list of numbers.\n",
        "    endOfFirstList (int): The last value of the first split.\n",
        "    startOf2ndList (int): The first value of the second split.\n",
        "\n",
        "    Returns:\n",
        "    str or list: \"No missing Val\" if no values are missing, else returns a list of missing values.\n",
        "    \"\"\"\n",
        "    if endOfFirstList >= startOf2ndList:\n",
        "        return \"Invalid range\"\n",
        "\n",
        "    missing_vals = [i for i in range(endOfFirstList + 1, startOf2ndList) if i in lst]\n",
        "\n",
        "    return missing_vals if missing_vals else \"No missing Val\"\n",
        "\n",
        "# Example Usage:\n",
        "lst = list(range(1, 21))  # List from 1 to 20\n",
        "lst.remove(15)  # Remove 15 to simulate a missing value\n",
        "\n",
        "print(getMissingVals(lst, 10, 18))  # Output: [11, 12, 13, 14, 15, 16, 17]\n"
      ]
    }
  ]
}