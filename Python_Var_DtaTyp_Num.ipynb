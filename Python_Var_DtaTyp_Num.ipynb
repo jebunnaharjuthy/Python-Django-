{
  "nbformat": 4,
  "nbformat_minor": 0,
  "metadata": {
    "colab": {
      "provenance": [],
      "authorship_tag": "ABX9TyNxq7QwYjNELRslpGB3v/Oe",
      "include_colab_link": true
    },
    "kernelspec": {
      "name": "python3",
      "display_name": "Python 3"
    },
    "language_info": {
      "name": "python"
    }
  },
  "cells": [
    {
      "cell_type": "markdown",
      "metadata": {
        "id": "view-in-github",
        "colab_type": "text"
      },
      "source": [
        "<a href=\"https://colab.research.google.com/github/jebunnaharjuthy/Python-Django-/blob/main/Python_Var_DtaTyp_Num.ipynb\" target=\"_parent\"><img src=\"https://colab.research.google.com/assets/colab-badge.svg\" alt=\"Open In Colab\"/></a>"
      ]
    },
    {
      "cell_type": "markdown",
      "source": [
        "## Python Basic Variable, DataType, Number\n",
        "**Reference: https://www.w3schools.com/**\n",
        "\n",
        "**Variables**\n",
        "\n",
        "Variables are containers for storing data values.\n",
        "\n",
        "**Creating Variables**\n",
        "\n",
        "Python has no command for declaring a variable.\n",
        "A variable is created the moment you first assign a value to it."
      ],
      "metadata": {
        "id": "pECl8vULnZCB"
      }
    },
    {
      "cell_type": "code",
      "execution_count": 1,
      "metadata": {
        "colab": {
          "base_uri": "https://localhost:8080/"
        },
        "id": "lRKI8G9YmyBe",
        "outputId": "9c13aab1-935b-4a69-82ef-ebf6714e78a3"
      },
      "outputs": [
        {
          "output_type": "stream",
          "name": "stdout",
          "text": [
            "5\n",
            "John\n"
          ]
        }
      ],
      "source": [
        "x = 5\n",
        "y = \"John\"\n",
        "print(x)\n",
        "print(y)"
      ]
    },
    {
      "cell_type": "code",
      "source": [
        "x = 4       # x is of type int\n",
        "x = \"Sally\" # x is now of type str\n",
        "print(x)"
      ],
      "metadata": {
        "colab": {
          "base_uri": "https://localhost:8080/"
        },
        "id": "svlI3LF-ElRe",
        "outputId": "dcadea8e-2d77-4c71-e80d-c189020f1b6d"
      },
      "execution_count": 2,
      "outputs": [
        {
          "output_type": "stream",
          "name": "stdout",
          "text": [
            "Sally\n"
          ]
        }
      ]
    },
    {
      "cell_type": "markdown",
      "source": [
        "**Casting :**\n",
        "If you want to specify the data type of a variable, this can be done with casting."
      ],
      "metadata": {
        "id": "Xu0YUrkDE-w3"
      }
    },
    {
      "cell_type": "code",
      "source": [
        "x = str(3)    # x will be '3'\n",
        "y = int(3)    # y will be 3\n",
        "z = float(3)  # z will be 3.0"
      ],
      "metadata": {
        "id": "DLDdwBHgFEJS"
      },
      "execution_count": 3,
      "outputs": []
    },
    {
      "cell_type": "markdown",
      "source": [
        "**Get the Type**"
      ],
      "metadata": {
        "id": "t6ShRbOAFq6w"
      }
    },
    {
      "cell_type": "code",
      "source": [
        "x = 5\n",
        "y = \"John\"\n",
        "print(type(x))\n",
        "print(type(y))"
      ],
      "metadata": {
        "colab": {
          "base_uri": "https://localhost:8080/"
        },
        "id": "0teEb5LxFnlR",
        "outputId": "69f641dc-1cb1-42bf-9419-afac38c080d5"
      },
      "execution_count": 4,
      "outputs": [
        {
          "output_type": "stream",
          "name": "stdout",
          "text": [
            "<class 'int'>\n",
            "<class 'str'>\n"
          ]
        }
      ]
    },
    {
      "cell_type": "markdown",
      "source": [
        "**Single or Double Quotes?**\n",
        "String variables can be declared either by using single or double quotes:"
      ],
      "metadata": {
        "id": "CKKbdxzqFyd3"
      }
    },
    {
      "cell_type": "code",
      "source": [
        "x = \"John\"\n",
        "# is the same as\n",
        "x = 'John'"
      ],
      "metadata": {
        "id": "qRF1uWUFFtzB"
      },
      "execution_count": 5,
      "outputs": []
    },
    {
      "cell_type": "code",
      "source": [
        "#Variable names are case-sensitive.\n",
        "a = 4\n",
        "A = \"Sally\"\n",
        "#A will not overwrite a"
      ],
      "metadata": {
        "id": "0y-PCe4LF6XZ"
      },
      "execution_count": 7,
      "outputs": []
    },
    {
      "cell_type": "markdown",
      "source": [
        "# Python - Variable Names\n",
        "**Variable Names**\n",
        "\n",
        "* A variable can have a short name (like x and y) or a more descriptive name (age, carname, total_volume). Rules for Python variables:\n",
        "* A variable name must start with a letter or the underscore character\n",
        "* A variable name cannot start with a number\n",
        "* A variable name can only contain alpha-numeric characters and underscores (A-z, 0-9, and _ )\n",
        "* Variable names are case-sensitive (age, Age and AGE are three different variables)\n",
        "* A variable name cannot be any of the Python keywords.\n",
        "\n",
        "\n",
        "\n"
      ],
      "metadata": {
        "id": "e7SuXn-0GIhK"
      }
    },
    {
      "cell_type": "code",
      "source": [
        "#Legal variable names:\n",
        "\n",
        "myvar = \"John\"\n",
        "my_var = \"John\"\n",
        "_my_var = \"John\"\n",
        "myVar = \"John\"\n",
        "MYVAR = \"John\"\n",
        "myvar2 = \"John\""
      ],
      "metadata": {
        "id": "XTrRuAoyGfTq"
      },
      "execution_count": 8,
      "outputs": []
    },
    {
      "cell_type": "code",
      "source": [
        "#Illegal variable names:\n",
        "\n",
        "2myvar = \"John\"\n",
        "my-var = \"John\"\n",
        "my var = \"John\""
      ],
      "metadata": {
        "colab": {
          "base_uri": "https://localhost:8080/",
          "height": 106
        },
        "id": "OsXQCLQCGkKo",
        "outputId": "b86addaf-5814-413e-a76f-d8c38baa7a6b"
      },
      "execution_count": 9,
      "outputs": [
        {
          "output_type": "error",
          "ename": "SyntaxError",
          "evalue": "invalid decimal literal (<ipython-input-9-505d442e4979>, line 3)",
          "traceback": [
            "\u001b[0;36m  File \u001b[0;32m\"<ipython-input-9-505d442e4979>\"\u001b[0;36m, line \u001b[0;32m3\u001b[0m\n\u001b[0;31m    2myvar = \"John\"\u001b[0m\n\u001b[0m    ^\u001b[0m\n\u001b[0;31mSyntaxError\u001b[0m\u001b[0;31m:\u001b[0m invalid decimal literal\n"
          ]
        }
      ]
    },
    {
      "cell_type": "markdown",
      "source": [
        "**Multi Words Variable Names**\n",
        "\n",
        "* Variable names with more than one word can be difficult to read.\n",
        "* There are several techniques you can use to make them more readable:\n",
        "* **Camel Case**\n",
        "\n",
        "* Each word, except the first, starts with a capital letter:\n"
      ],
      "metadata": {
        "id": "U8cq3p3yGrmY"
      }
    },
    {
      "cell_type": "code",
      "source": [
        "myVariableName = \"John\""
      ],
      "metadata": {
        "id": "U2Ibc5ZbGmhn"
      },
      "execution_count": 12,
      "outputs": []
    },
    {
      "cell_type": "markdown",
      "source": [
        "**Pascal Case**\n",
        "\n",
        "Each word starts with a capital letter:"
      ],
      "metadata": {
        "id": "vyIrbSM5HZ4J"
      }
    },
    {
      "cell_type": "code",
      "source": [
        "MyVariableName = \"John\""
      ],
      "metadata": {
        "id": "j7mvnR-AHere"
      },
      "execution_count": 11,
      "outputs": []
    },
    {
      "cell_type": "markdown",
      "source": [
        "**Snake Case**\n",
        "\n",
        "Each word is separated by an underscore character:"
      ],
      "metadata": {
        "id": "tiyU_k4IHjEB"
      }
    },
    {
      "cell_type": "code",
      "source": [
        "my_variable_name = \"John\""
      ],
      "metadata": {
        "id": "lJysTFMhHjWM"
      },
      "execution_count": 10,
      "outputs": []
    },
    {
      "cell_type": "markdown",
      "source": [
        "# Assign Multiple Values\n",
        "**Many Values to Multiple Variables**\n",
        "\n",
        "Python allows you to assign values to multiple variables in one line:\n",
        "**Note:** Make sure the number of variables matches the number of values, or else you will get an error."
      ],
      "metadata": {
        "id": "cnBlWysgMGG7"
      }
    },
    {
      "cell_type": "code",
      "source": [
        "x, y, z = \"Orange\", \"Banana\", \"Cherry\"\n",
        "print(x)\n",
        "print(y)\n",
        "print(z)"
      ],
      "metadata": {
        "colab": {
          "base_uri": "https://localhost:8080/"
        },
        "id": "ZpXmTLA1MTY3",
        "outputId": "d348d420-fd1f-46dd-a9a1-5a7877109fec"
      },
      "execution_count": 13,
      "outputs": [
        {
          "output_type": "stream",
          "name": "stdout",
          "text": [
            "Orange\n",
            "Banana\n",
            "Cherry\n"
          ]
        }
      ]
    },
    {
      "cell_type": "markdown",
      "source": [
        "**One Value to Multiple Variables**\n",
        "\n",
        "And you can assign the same value to multiple variables in one line:"
      ],
      "metadata": {
        "id": "4Oz9kU_5Mbx-"
      }
    },
    {
      "cell_type": "code",
      "source": [
        "x = y = z = \"Orange\"\n",
        "print(x)\n",
        "print(y)\n",
        "print(z)"
      ],
      "metadata": {
        "colab": {
          "base_uri": "https://localhost:8080/"
        },
        "id": "EggR3mDPMen4",
        "outputId": "f3d70fb1-9244-40a5-d164-bccd85223717"
      },
      "execution_count": 14,
      "outputs": [
        {
          "output_type": "stream",
          "name": "stdout",
          "text": [
            "Orange\n",
            "Orange\n",
            "Orange\n"
          ]
        }
      ]
    },
    {
      "cell_type": "markdown",
      "source": [
        "#Unpack a Collection\n",
        "If you have a collection of values in a list, tuple etc. Python allows you to extract the values into variables. This is called unpacking."
      ],
      "metadata": {
        "id": "oLQ0TdPBMnPS"
      }
    },
    {
      "cell_type": "code",
      "source": [
        "fruits = [\"apple\", \"banana\", \"cherry\"]\n",
        "x, y, z = fruits\n",
        "print(x)\n",
        "print(y)\n",
        "print(z)\n",
        "print(fruits)"
      ],
      "metadata": {
        "colab": {
          "base_uri": "https://localhost:8080/"
        },
        "id": "q4USXavtMndh",
        "outputId": "d030732f-3b3d-4edd-b1df-0bca932f3224"
      },
      "execution_count": 16,
      "outputs": [
        {
          "output_type": "stream",
          "name": "stdout",
          "text": [
            "apple\n",
            "banana\n",
            "cherry\n",
            "['apple', 'banana', 'cherry']\n"
          ]
        }
      ]
    },
    {
      "cell_type": "markdown",
      "source": [
        "# Unpack Tuples\n",
        "**Note:** The number of variables must match the number of values in the tuple, if not, you must use an asterisk to collect the remaining values as a list.\n",
        "\n",
        "# Using Asterisk*\n",
        "If the number of variables is less than the number of values, you can add an * to the variable name and the values will be assigned to the variable as a list:"
      ],
      "metadata": {
        "id": "ebC13PRhNNWR"
      }
    },
    {
      "cell_type": "code",
      "source": [
        "# Assign the rest of the values as a list called \"red\":\n",
        "\n",
        "fruits = (\"apple\", \"banana\", \"cherry\", \"strawberry\", \"raspberry\")\n",
        "\n",
        "(green, yellow, *red) = fruits\n",
        "\n",
        "print(green)\n",
        "print(yellow)\n",
        "print(red)"
      ],
      "metadata": {
        "colab": {
          "base_uri": "https://localhost:8080/"
        },
        "id": "ULd7m3AAMyql",
        "outputId": "7f831c53-347e-439a-f07e-94bdfa700e6e"
      },
      "execution_count": 17,
      "outputs": [
        {
          "output_type": "stream",
          "name": "stdout",
          "text": [
            "apple\n",
            "banana\n",
            "['cherry', 'strawberry', 'raspberry']\n"
          ]
        }
      ]
    },
    {
      "cell_type": "markdown",
      "source": [
        "If the asterisk is added to another variable name than the last, Python will assign values to the variable until the number of values left matches the number of variables left."
      ],
      "metadata": {
        "id": "G0x3BxlZNyvZ"
      }
    },
    {
      "cell_type": "code",
      "source": [
        "#Add a list of values the \"tropic\" variable:\n",
        "\n",
        "fruits = (\"apple\", \"mango\", \"papaya\", \"pineapple\", \"cherry\")\n",
        "\n",
        "(green, *tropic, red, white) = fruits\n",
        "\n",
        "print(green)\n",
        "print(tropic)\n",
        "print(red)\n",
        "print(white)"
      ],
      "metadata": {
        "colab": {
          "base_uri": "https://localhost:8080/"
        },
        "id": "DNr7cpthNzwk",
        "outputId": "268792ad-2c24-46c6-a550-d3a5071a8426"
      },
      "execution_count": 19,
      "outputs": [
        {
          "output_type": "stream",
          "name": "stdout",
          "text": [
            "apple\n",
            "['mango', 'papaya']\n",
            "pineapple\n",
            "cherry\n"
          ]
        }
      ]
    },
    {
      "cell_type": "markdown",
      "source": [
        "# Output Variables\n"
      ],
      "metadata": {
        "id": "S7rhcMmyTU2J"
      }
    },
    {
      "cell_type": "code",
      "source": [
        "x = \"Python is awesome\"\n",
        "print(x)"
      ],
      "metadata": {
        "colab": {
          "base_uri": "https://localhost:8080/"
        },
        "id": "BonXpC4LTbuV",
        "outputId": "c585e91f-5700-4dd5-d2b4-ed14b5f73ca5"
      },
      "execution_count": 20,
      "outputs": [
        {
          "output_type": "stream",
          "name": "stdout",
          "text": [
            "Python is awesome\n"
          ]
        }
      ]
    },
    {
      "cell_type": "code",
      "source": [
        "x = \"Python\"\n",
        "y = \"is\"\n",
        "z = \"awesome\"\n",
        "print(x, y, z)"
      ],
      "metadata": {
        "colab": {
          "base_uri": "https://localhost:8080/"
        },
        "id": "u0Ha6qToTelH",
        "outputId": "2c667e7c-2815-43c1-dd7c-1ac1706b6391"
      },
      "execution_count": 21,
      "outputs": [
        {
          "output_type": "stream",
          "name": "stdout",
          "text": [
            "Python is awesome\n"
          ]
        }
      ]
    },
    {
      "cell_type": "markdown",
      "source": [
        "Notice the space character after \"Python \" and \"is \", without them the result would be \"Pythonisawesome\".\n",
        "\n",
        "For numbers, the + character works as a mathematical operator:"
      ],
      "metadata": {
        "id": "aURxhG12TnrK"
      }
    },
    {
      "cell_type": "code",
      "source": [
        "x = 5\n",
        "y = 10\n",
        "print(x + y)"
      ],
      "metadata": {
        "colab": {
          "base_uri": "https://localhost:8080/"
        },
        "id": "2O648Q0XTk8K",
        "outputId": "a5ebcce3-81f3-4862-ed98-22a6128bf0ea"
      },
      "execution_count": 22,
      "outputs": [
        {
          "output_type": "stream",
          "name": "stdout",
          "text": [
            "15\n"
          ]
        }
      ]
    },
    {
      "cell_type": "markdown",
      "source": [
        "**Inthe print() function, when you try to combine a string and a number with the + operator, Python will give you an error:**\n",
        "\n"
      ],
      "metadata": {
        "id": "ACzvQxLSTunn"
      }
    },
    {
      "cell_type": "code",
      "source": [
        "#Example\n",
        "x = 5\n",
        "y = \"John\"\n",
        "print(x + y)"
      ],
      "metadata": {
        "colab": {
          "base_uri": "https://localhost:8080/",
          "height": 176
        },
        "id": "7ozGrQOOT0t_",
        "outputId": "fff2271f-47e0-4fb5-da62-0757e4b93565"
      },
      "execution_count": 23,
      "outputs": [
        {
          "output_type": "error",
          "ename": "TypeError",
          "evalue": "unsupported operand type(s) for +: 'int' and 'str'",
          "traceback": [
            "\u001b[0;31m---------------------------------------------------------------------------\u001b[0m",
            "\u001b[0;31mTypeError\u001b[0m                                 Traceback (most recent call last)",
            "\u001b[0;32m<ipython-input-23-6c53d93dc73b>\u001b[0m in \u001b[0;36m<cell line: 4>\u001b[0;34m()\u001b[0m\n\u001b[1;32m      2\u001b[0m \u001b[0mx\u001b[0m \u001b[0;34m=\u001b[0m \u001b[0;36m5\u001b[0m\u001b[0;34m\u001b[0m\u001b[0;34m\u001b[0m\u001b[0m\n\u001b[1;32m      3\u001b[0m \u001b[0my\u001b[0m \u001b[0;34m=\u001b[0m \u001b[0;34m\"John\"\u001b[0m\u001b[0;34m\u001b[0m\u001b[0;34m\u001b[0m\u001b[0m\n\u001b[0;32m----> 4\u001b[0;31m \u001b[0mprint\u001b[0m\u001b[0;34m(\u001b[0m\u001b[0mx\u001b[0m \u001b[0;34m+\u001b[0m \u001b[0my\u001b[0m\u001b[0;34m)\u001b[0m\u001b[0;34m\u001b[0m\u001b[0;34m\u001b[0m\u001b[0m\n\u001b[0m",
            "\u001b[0;31mTypeError\u001b[0m: unsupported operand type(s) for +: 'int' and 'str'"
          ]
        }
      ]
    },
    {
      "cell_type": "markdown",
      "source": [
        "The best way to output multiple variables in the print() function is to separate them with commas, which even support different data types:\n",
        "\n"
      ],
      "metadata": {
        "id": "mS91oX7cT7Fi"
      }
    },
    {
      "cell_type": "code",
      "source": [
        "x = 5\n",
        "y = \"John\"\n",
        "print(x, y)"
      ],
      "metadata": {
        "colab": {
          "base_uri": "https://localhost:8080/"
        },
        "id": "zWuDi3WmT-hU",
        "outputId": "a03dc0f5-6241-4a3d-9780-277acf68cb35"
      },
      "execution_count": 24,
      "outputs": [
        {
          "output_type": "stream",
          "name": "stdout",
          "text": [
            "5 John\n"
          ]
        }
      ]
    },
    {
      "cell_type": "markdown",
      "source": [
        "# Global Variables\n",
        "Variables that are created outside of a function (as in all of the examples in the previous pages) are known as global variables.\n",
        "\n",
        "Global variables can be used by everyone, both inside of functions and outside."
      ],
      "metadata": {
        "id": "BST4Nfw_UIUN"
      }
    },
    {
      "cell_type": "code",
      "source": [
        "#Create a variable outside of a function, and use it inside the function\n",
        "\n",
        "x = \"awesome\"\n",
        "\n",
        "def myfunc():\n",
        "  print(\"Python is \" + x)\n",
        "\n",
        "myfunc()"
      ],
      "metadata": {
        "colab": {
          "base_uri": "https://localhost:8080/"
        },
        "id": "uVQ6w-8eUUAt",
        "outputId": "75e45327-81ae-45e8-b94e-7b73aa1dec51"
      },
      "execution_count": 25,
      "outputs": [
        {
          "output_type": "stream",
          "name": "stdout",
          "text": [
            "Python is awesome\n"
          ]
        }
      ]
    },
    {
      "cell_type": "markdown",
      "source": [
        "If you create a variable with the same name inside a function, this variable will be local, and can only be used inside the function. The global variable with the same name will remain as it was, global and with the original value."
      ],
      "metadata": {
        "id": "DFzbIkaXUZJz"
      }
    },
    {
      "cell_type": "code",
      "source": [
        "#Create a variable inside a function, with the same name as the global variable\n",
        "\n",
        "x = \"awesome\"\n",
        "\n",
        "def myfunc():\n",
        "  x = \"fantastic\"\n",
        "  print(\"Python is \" + x)\n",
        "\n",
        "myfunc()\n",
        "\n",
        "print(\"Python is \" + x)"
      ],
      "metadata": {
        "colab": {
          "base_uri": "https://localhost:8080/"
        },
        "id": "86Uk5gx6Ucd5",
        "outputId": "c488006b-b9c3-4989-df27-1941da60899d"
      },
      "execution_count": 26,
      "outputs": [
        {
          "output_type": "stream",
          "name": "stdout",
          "text": [
            "Python is fantastic\n",
            "Python is awesome\n"
          ]
        }
      ]
    },
    {
      "cell_type": "markdown",
      "source": [
        "**The global Keyword**\n",
        "\n",
        "Normally, when you create a variable inside a function, that variable is local, and can only be used inside that function.\n",
        "\n",
        "To create a global variable inside a function, you can use the global keyword."
      ],
      "metadata": {
        "id": "7jOxqKjHUimA"
      }
    },
    {
      "cell_type": "code",
      "source": [
        "#If you use the global keyword, the variable belongs to the global scope:\n",
        "\n",
        "def myfunc():\n",
        "  global x\n",
        "  x = \"fantastic\"\n",
        "\n",
        "myfunc()\n",
        "\n",
        "print(\"Python is \" + x)"
      ],
      "metadata": {
        "colab": {
          "base_uri": "https://localhost:8080/"
        },
        "id": "nZtDfha8Uf3m",
        "outputId": "1ba094fb-10e6-477b-fdef-7894539e3711"
      },
      "execution_count": 27,
      "outputs": [
        {
          "output_type": "stream",
          "name": "stdout",
          "text": [
            "Python is fantastic\n"
          ]
        }
      ]
    },
    {
      "cell_type": "markdown",
      "source": [
        "Also, use the global keyword if you want to change a global variable inside a function.\n",
        "\n",
        "Example\n",
        "To change the value of a global variable inside a function, refer to the variable by using the global keyword:"
      ],
      "metadata": {
        "id": "Pbwb2vpVUtIU"
      }
    },
    {
      "cell_type": "code",
      "source": [
        "x = \"awesome\"\n",
        "\n",
        "def myfunc():\n",
        "  global x\n",
        "  x = \"fantastic\"\n",
        "\n",
        "myfunc()\n",
        "\n",
        "print(\"Python is \" + x)"
      ],
      "metadata": {
        "colab": {
          "base_uri": "https://localhost:8080/"
        },
        "id": "zc1DFNNAUuyV",
        "outputId": "361a31d9-8d3b-4c62-daa6-1eb44f3588f1"
      },
      "execution_count": 28,
      "outputs": [
        {
          "output_type": "stream",
          "name": "stdout",
          "text": [
            "Python is fantastic\n"
          ]
        }
      ]
    },
    {
      "cell_type": "markdown",
      "source": [
        "## Python Data Types\n",
        "\n"
      ],
      "metadata": {
        "id": "bEjyCTyhVUnu"
      }
    },
    {
      "cell_type": "markdown",
      "source": [
        "**Built-in Data Types**\n",
        "\n",
        "In programming, data type is an important concept.\n",
        "\n",
        "Variables can store data of different types, and different types can do different things.\n",
        "\n",
        "Python has the following data types built-in by default, in these categories:\n",
        "\n",
        "* **Text Type:**\tstr\n",
        "* **Numeric Types:**\tint, float, complex\n",
        "* **Sequence Types:**\tlist, tuple, range\n",
        "* **Mapping Type:**\tdict\n",
        "* **Set Types:**\tset, frozenset\n",
        "* **Boolean Type:**\tbool\n",
        "* **Binary Types:**\tbytes, bytearray, memoryview\n",
        "* **None Type:**\tNoneType"
      ],
      "metadata": {
        "id": "2f9nJlifV_gV"
      }
    },
    {
      "cell_type": "code",
      "source": [
        "#Print the data type of the variable x:\n",
        "\n",
        "x = 5\n",
        "print(type(x))"
      ],
      "metadata": {
        "colab": {
          "base_uri": "https://localhost:8080/"
        },
        "id": "kWl9zoEvViyB",
        "outputId": "34b72105-0fb6-48c4-a516-6469b3759b00"
      },
      "execution_count": 29,
      "outputs": [
        {
          "output_type": "stream",
          "name": "stdout",
          "text": [
            "<class 'int'>\n"
          ]
        }
      ]
    },
    {
      "cell_type": "markdown",
      "source": [
        "Setting the Data Type\n",
        "\n",
        "In Python, the data type is set when you assign a value to a variable:"
      ],
      "metadata": {
        "id": "YtNZxe2WWk_3"
      }
    },
    {
      "cell_type": "code",
      "source": [
        "x = \"Hello World\"\t#str\n",
        "print(type(x))\n",
        "x = 20\t#int\n",
        "print(type(x))\n",
        "x = 20.5\t#float\n",
        "print(type(x))\n",
        "x = 1j\t#complex\n",
        "print(type(x))\n",
        "x = [\"apple\", \"banana\", \"cherry\"]\t#list\n",
        "print(type(x))\n",
        "x = (\"apple\", \"banana\", \"cherry\")\t#tuple\n",
        "print(type(x))\n",
        "x = range(6)\t#range\n",
        "print(type(x))\n",
        "x = {\"name\" : \"John\", \"age\" : 36}\t#dict\n",
        "print(type(x))\n",
        "x = {\"apple\", \"banana\", \"cherry\"}\t#set\n",
        "print(type(x))\n",
        "x = frozenset({\"apple\", \"banana\", \"cherry\"})\t#frozenset\n",
        "print(type(x))\n",
        "x = True\t#bool\n",
        "print(type(x))\n",
        "x = b\"Hello\"\t#bytes\n",
        "print(type(x))\n",
        "x = bytearray(5)\t#bytearray\n",
        "print(type(x))\n",
        "x = memoryview(bytes(5))\t#memoryview\n",
        "print(type(x))\n",
        "x = None\t#NoneType\n",
        "print(type(x))"
      ],
      "metadata": {
        "colab": {
          "base_uri": "https://localhost:8080/"
        },
        "id": "mZUPYPcXWqOv",
        "outputId": "4f3d50da-9afe-45c3-dbfc-a3d63befd425"
      },
      "execution_count": 35,
      "outputs": [
        {
          "output_type": "stream",
          "name": "stdout",
          "text": [
            "<class 'str'>\n",
            "<class 'int'>\n",
            "<class 'float'>\n",
            "<class 'complex'>\n",
            "<class 'list'>\n",
            "<class 'tuple'>\n",
            "<class 'range'>\n",
            "<class 'dict'>\n",
            "<class 'set'>\n",
            "<class 'frozenset'>\n",
            "<class 'bool'>\n",
            "<class 'bytes'>\n",
            "<class 'bytearray'>\n",
            "<class 'memoryview'>\n",
            "<class 'NoneType'>\n"
          ]
        }
      ]
    },
    {
      "cell_type": "code",
      "source": [
        "x = str(\"Hello World\")"
      ],
      "metadata": {
        "id": "1HwWHsl8Xy4f"
      },
      "execution_count": 36,
      "outputs": []
    },
    {
      "cell_type": "markdown",
      "source": [
        "# Python Numbers\n",
        "There are three numeric types in Python:\n",
        "\n",
        "* int\n",
        "* float\n",
        "* complex\n",
        "Variables of numeric types are created when you assign a value to them:"
      ],
      "metadata": {
        "id": "HJ1KoAQkYCH8"
      }
    },
    {
      "cell_type": "code",
      "source": [
        "x = 1    # int\n",
        "y = 2.8  # float\n",
        "z = 1j   # complex"
      ],
      "metadata": {
        "id": "mGC6m45-YZ9g"
      },
      "execution_count": 37,
      "outputs": []
    },
    {
      "cell_type": "code",
      "source": [
        "print(type(x))\n",
        "print(type(y))\n",
        "print(type(z))"
      ],
      "metadata": {
        "colab": {
          "base_uri": "https://localhost:8080/"
        },
        "id": "He3bpwmUYUgR",
        "outputId": "226745db-4d90-407e-9e52-dbd1fa2307a6"
      },
      "execution_count": 38,
      "outputs": [
        {
          "output_type": "stream",
          "name": "stdout",
          "text": [
            "<class 'int'>\n",
            "<class 'float'>\n",
            "<class 'complex'>\n"
          ]
        }
      ]
    },
    {
      "cell_type": "code",
      "source": [
        "x = 1\n",
        "y = 35656222554887711\n",
        "z = -3255522\n",
        "\n",
        "print(type(x))\n",
        "print(type(y))\n",
        "print(type(z))"
      ],
      "metadata": {
        "colab": {
          "base_uri": "https://localhost:8080/"
        },
        "id": "3VhgeQCvYeSy",
        "outputId": "1f0d5445-3504-4a90-e8b1-1a7bcac393d4"
      },
      "execution_count": 39,
      "outputs": [
        {
          "output_type": "stream",
          "name": "stdout",
          "text": [
            "<class 'int'>\n",
            "<class 'int'>\n",
            "<class 'int'>\n"
          ]
        }
      ]
    },
    {
      "cell_type": "code",
      "source": [
        "x = 1.10\n",
        "y = 1.0\n",
        "z = -35.59\n",
        "\n",
        "print(type(x))\n",
        "print(type(y))\n",
        "print(type(z))"
      ],
      "metadata": {
        "colab": {
          "base_uri": "https://localhost:8080/"
        },
        "id": "uLd1XTPPYi85",
        "outputId": "3e3151c1-b052-4fcb-bb1e-043bcea632ad"
      },
      "execution_count": 40,
      "outputs": [
        {
          "output_type": "stream",
          "name": "stdout",
          "text": [
            "<class 'float'>\n",
            "<class 'float'>\n",
            "<class 'float'>\n"
          ]
        }
      ]
    },
    {
      "cell_type": "code",
      "source": [
        "x = 35e3\n",
        "y = 12E4\n",
        "z = -87.7e100\n",
        "\n",
        "print(type(x))\n",
        "print(type(y))\n",
        "print(type(z))"
      ],
      "metadata": {
        "colab": {
          "base_uri": "https://localhost:8080/"
        },
        "id": "qvdRbsqJYjBB",
        "outputId": "d89287ca-5cad-4d1c-db0d-ac5cc7eec1db"
      },
      "execution_count": 41,
      "outputs": [
        {
          "output_type": "stream",
          "name": "stdout",
          "text": [
            "<class 'float'>\n",
            "<class 'float'>\n",
            "<class 'float'>\n"
          ]
        }
      ]
    },
    {
      "cell_type": "code",
      "source": [
        "x = 3+5j\n",
        "y = 5j\n",
        "z = -5j\n",
        "\n",
        "print(type(x))\n",
        "print(type(y))\n",
        "print(type(z))"
      ],
      "metadata": {
        "colab": {
          "base_uri": "https://localhost:8080/"
        },
        "id": "HJ2MvGKmYonL",
        "outputId": "72058904-1306-48c3-e12b-c20e60be8d27"
      },
      "execution_count": 42,
      "outputs": [
        {
          "output_type": "stream",
          "name": "stdout",
          "text": [
            "<class 'complex'>\n",
            "<class 'complex'>\n",
            "<class 'complex'>\n"
          ]
        }
      ]
    },
    {
      "cell_type": "markdown",
      "source": [
        "**Type Conversion**\n",
        "\n",
        "You can convert from one type to another with the int(), float(), and complex() methods:"
      ],
      "metadata": {
        "id": "_QelZ_MbYsAQ"
      }
    },
    {
      "cell_type": "code",
      "source": [
        "x = 1    # int\n",
        "y = 2.8  # float\n",
        "z = 1j   # complex\n",
        "\n",
        "#convert from int to float:\n",
        "a = float(x)\n",
        "\n",
        "#convert from float to int:\n",
        "b = int(y)\n",
        "\n",
        "#convert from int to complex:\n",
        "c = complex(x)\n",
        "\n",
        "print(a)\n",
        "print(b)\n",
        "print(c)\n",
        "\n",
        "print(type(a))\n",
        "print(type(b))\n",
        "print(type(c))"
      ],
      "metadata": {
        "colab": {
          "base_uri": "https://localhost:8080/"
        },
        "id": "L8dlvYNpYy4N",
        "outputId": "2db900ea-d654-440a-cfcd-0ff4ed2571cd"
      },
      "execution_count": 43,
      "outputs": [
        {
          "output_type": "stream",
          "name": "stdout",
          "text": [
            "1.0\n",
            "2\n",
            "(1+0j)\n",
            "<class 'float'>\n",
            "<class 'int'>\n",
            "<class 'complex'>\n"
          ]
        }
      ]
    }
  ]
}