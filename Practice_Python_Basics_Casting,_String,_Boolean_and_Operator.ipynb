{
  "nbformat": 4,
  "nbformat_minor": 0,
  "metadata": {
    "colab": {
      "provenance": [],
      "authorship_tag": "ABX9TyPqeboJu9Z0cq5kkSGMuiR1",
      "include_colab_link": true
    },
    "kernelspec": {
      "name": "python3",
      "display_name": "Python 3"
    },
    "language_info": {
      "name": "python"
    }
  },
  "cells": [
    {
      "cell_type": "markdown",
      "metadata": {
        "id": "view-in-github",
        "colab_type": "text"
      },
      "source": [
        "<a href=\"https://colab.research.google.com/github/jebunnaharjuthy/Python-Django-/blob/main/Practice_Python_Basics_Casting%2C_String%2C_Boolean_and_Operator.ipynb\" target=\"_parent\"><img src=\"https://colab.research.google.com/assets/colab-badge.svg\" alt=\"Open In Colab\"/></a>"
      ]
    },
    {
      "cell_type": "code",
      "execution_count": 1,
      "metadata": {
        "colab": {
          "base_uri": "https://localhost:8080/"
        },
        "id": "JPTz2Uk1KXaZ",
        "outputId": "e075e41c-8fd7-464e-bd19-79009206a6c0"
      },
      "outputs": [
        {
          "output_type": "stream",
          "name": "stdout",
          "text": [
            "1\tAfter &=, x = 1\n",
            "2\tAfter |=, x = 7\n",
            "3\tAfter ^=, x = 6\n",
            "4\tAfter >>=, x = 2\n",
            "5\tAfter <<=, x = 16\n",
            "6\tWalrus operator example, x = 3\n"
          ]
        }
      ],
      "source": [
        "# Testing &= operator\n",
        "x = 5  # Binary: 0101\n",
        "x &= 3  # Binary: 0011 -> Result: 0001 (1)\n",
        "print(\"1\\tAfter &=, x =\", x)\n",
        "\n",
        "# Testing |= operator\n",
        "x = 5  # Reset x to 5 (Binary: 0101)\n",
        "x |= 3  # Binary: 0011 -> Result: 0111 (7)\n",
        "print(\"2\\tAfter |=, x =\", x)\n",
        "\n",
        "# Testing ^= operator\n",
        "x = 5  # Reset x to 5 (Binary: 0101)\n",
        "x ^= 3  # Binary: 0011 -> Result: 0110 (6)\n",
        "print(\"3\\tAfter ^=, x =\", x)\n",
        "\n",
        "# Testing >>= operator\n",
        "x = 16  # Binary: 10000\n",
        "x >>= 3  # Shift right by 3 -> Result: 00010 (2)\n",
        "print(\"4\\tAfter >>=, x =\", x)\n",
        "\n",
        "# Testing <<= operator\n",
        "x = 2  # Reset x to 2 (Binary: 00010)\n",
        "x <<= 3  # Shift left by 3 -> Result: 10000 (16)\n",
        "print(\"5\\tAfter <<=, x =\", x)\n",
        "\n",
        "# Testing := (Walrus Operator)\n",
        "# Assign and print in a single statement\n",
        "print(\"6\\tWalrus operator example, x =\", (x := 3))\n"
      ]
    }
  ]
}