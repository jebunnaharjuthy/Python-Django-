{
  "nbformat": 4,
  "nbformat_minor": 0,
  "metadata": {
    "colab": {
      "provenance": [],
      "authorship_tag": "ABX9TyMLppatbEdQlX0Ca0Xed2Hf",
      "include_colab_link": true
    },
    "kernelspec": {
      "name": "python3",
      "display_name": "Python 3"
    },
    "language_info": {
      "name": "python"
    }
  },
  "cells": [
    {
      "cell_type": "markdown",
      "metadata": {
        "id": "view-in-github",
        "colab_type": "text"
      },
      "source": [
        "<a href=\"https://colab.research.google.com/github/jebunnaharjuthy/Python-Django-/blob/main/Calculator.ipynb\" target=\"_parent\"><img src=\"https://colab.research.google.com/assets/colab-badge.svg\" alt=\"Open In Colab\"/></a>"
      ]
    },
    {
      "cell_type": "markdown",
      "source": [],
      "metadata": {
        "id": "fzg-0nsA6XIE"
      }
    },
    {
      "cell_type": "code",
      "source": [
        "file_path = r\"/content/drive/My Drive/Python-Django/SimCal.py\"\n",
        "\n",
        "with open(file_path, \"r\") as file:\n",
        "    content = file.read()\n",
        "\n",
        "print(content)  # Display the content of the .py file\n"
      ],
      "metadata": {
        "id": "sL_FGBQk6Gol"
      },
      "execution_count": null,
      "outputs": []
    },
    {
      "cell_type": "code",
      "source": [
        "file_path = r\"/content/drive/My Drive/Python-Django/SimCal.py\"\n",
        "\n",
        "with open(file_path, \"r\") as file:\n",
        "    exec(file.read())  # Executes the Python script\n"
      ],
      "metadata": {
        "id": "3lGDVo-_3MFj"
      },
      "execution_count": null,
      "outputs": []
    },
    {
      "cell_type": "code",
      "source": [
        "file_path = r\"/content/drive/My Drive/Python-Django/TestCal.py\"\n",
        "\n",
        "with open(file_path, \"r\") as file:\n",
        "    content = file.read()\n",
        "\n",
        "print(content)  # Display the content of the .py file"
      ],
      "metadata": {
        "id": "Knh_EKus3cNd"
      },
      "execution_count": null,
      "outputs": []
    },
    {
      "cell_type": "code",
      "source": [
        "file_path = r\"/content/drive/My Drive/Python-Django/TestCal.py\"\n",
        "\n",
        "with open(file_path, \"r\") as file:\n",
        "    exec(file.read())  # Executes the Python script\n"
      ],
      "metadata": {
        "id": "1Ud4Mtpu3cZj"
      },
      "execution_count": null,
      "outputs": []
    },
    {
      "cell_type": "code",
      "source": [
        "\n",
        "%run SimCal.py\n",
        "\n",
        "import SimCal as s"
      ],
      "metadata": {
        "id": "yOaUZUV5262r"
      },
      "execution_count": null,
      "outputs": []
    },
    {
      "cell_type": "code",
      "source": [
        "# SimCal.py\n",
        "\n",
        "def add(a, b):\n",
        "    return a + b\n",
        "\n",
        "def sub(a, b):\n",
        "    return abs(a - b)\n",
        "\n",
        "def mul(a, b):\n",
        "    return a * b\n",
        "\n",
        "def div(a, b):\n",
        "    return a / b if b != 0 else \"Infinity\"\n",
        "\n",
        "def pow(a, b):\n",
        "    return a ** b\n",
        "\n",
        "def mod(a, b):\n",
        "    return a % b\n",
        "\n",
        "# TestCal.py\n",
        "\n",
        "import SimCal as s\n",
        "\n",
        "while True:\n",
        "    print(\"Enter 1 to add, \\n2 to subtract, \\n3 for multiplication, \\n4 for division, \\n5 for power, \\n6 for modulus, \\n0 to exit\")\n",
        "\n",
        "    choice = int(input(\"Your Choice: \"))\n",
        "\n",
        "    if choice == 0:\n",
        "        break\n",
        "\n",
        "    a = int(input(\"Enter a: \"))\n",
        "    b = int(input(\"Enter b: \"))\n",
        "\n",
        "    if choice == 1:\n",
        "        print(s.add(a, b))\n",
        "    elif choice == 2:\n",
        "        print(s.sub(a, b))\n",
        "    elif choice == 3:\n",
        "        print(s.mul(a, b))\n",
        "    elif choice == 4:\n",
        "        print(s.div(a, b))\n",
        "    elif choice == 5:\n",
        "        print(s.pow(a, b))\n",
        "    elif choice == 6:\n",
        "        print(s.mod(a, b))\n",
        "    else:\n",
        "        print(\"Invalid choice. Please try again.\")\n"
      ],
      "metadata": {
        "id": "MX6XTFFc6Q2F"
      },
      "execution_count": null,
      "outputs": []
    }
  ]
}